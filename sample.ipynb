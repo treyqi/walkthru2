{
 "cells": [
  {
   "cell_type": "markdown",
   "id": "7dd208fd-5d36-43d9-82e5-7f873d8ad6d3",
   "metadata": {},
   "source": [
    "Something"
   ]
  },
  {
   "cell_type": "code",
   "execution_count": 1,
   "id": "f8ada64d-8983-4566-ac61-82e105e1cab5",
   "metadata": {},
   "outputs": [
    {
     "data": {
      "text/plain": [
       "5"
      ]
     },
     "execution_count": 1,
     "metadata": {},
     "output_type": "execute_result"
    }
   ],
   "source": [
    "2+3"
   ]
  },
  {
   "cell_type": "code",
   "execution_count": null,
   "id": "55cf1558-a7d6-462c-96ae-7196dce1e145",
   "metadata": {},
   "outputs": [],
   "source": []
  }
 ],
 "metadata": {
  "kernelspec": {
   "display_name": "Python 3 (ipykernel)",
   "language": "python",
   "name": "python3"
  },
  "language_info": {
   "codemirror_mode": {
    "name": "ipython",
    "version": 3
   },
   "file_extension": ".py",
   "mimetype": "text/x-python",
   "name": "python",
   "nbconvert_exporter": "python",
   "pygments_lexer": "ipython3",
   "version": "3.9.13"
  }
 },
 "nbformat": 4,
 "nbformat_minor": 5
}
